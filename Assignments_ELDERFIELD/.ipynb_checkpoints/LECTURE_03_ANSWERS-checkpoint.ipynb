{
 "cells": [
  {
   "cell_type": "markdown",
   "id": "cdf9c05c-35b9-4c99-9c48-ca40cc3c5a3f",
   "metadata": {},
   "source": [
    "# PREFINAL ASSIGNMENT"
   ]
  },
  {
   "cell_type": "markdown",
   "id": "f0b0ed1d-ca4e-4104-ab89-6941c74f03ae",
   "metadata": {},
   "source": [
    "1. Using Python Library create generate an example of each of the topics discussed in this jupyter notebook.\n",
    "2. Provide an explanation of each generated graph.\n",
    "3. Push the results to your github account."
   ]
  }
 ],
 "metadata": {
  "kernelspec": {
   "display_name": "Python 3 (ipykernel)",
   "language": "python",
   "name": "python3"
  },
  "language_info": {
   "codemirror_mode": {
    "name": "ipython",
    "version": 3
   },
   "file_extension": ".py",
   "mimetype": "text/x-python",
   "name": "python",
   "nbconvert_exporter": "python",
   "pygments_lexer": "ipython3",
   "version": "3.10.12"
  }
 },
 "nbformat": 4,
 "nbformat_minor": 5
}
